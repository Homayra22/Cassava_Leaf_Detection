{
 "cells": [
  {
   "cell_type": "markdown",
   "id": "5aa54155-51a2-46a3-bd36-9612e62804b7",
   "metadata": {},
   "source": [
    "KNN, N=15, Randomized PCA, n_componenets=50"
   ]
  },
  {
   "cell_type": "code",
   "execution_count": null,
   "id": "bb6e3ee1-6f48-4a2d-8ee1-e82acbfff520",
   "metadata": {},
   "outputs": [],
   "source": [
    "import json\n",
    "\n",
    "import pandas as pd\n",
    "import matplotlib.pyplot as plt\n",
    "\n",
    "from pathlib import Path\n",
    "from sklearn.model_selection import StratifiedKFold"
   ]
  },
  {
   "cell_type": "code",
   "execution_count": 3,
   "id": "ae678e17-cf32-45ea-a4fe-9651a19cc492",
   "metadata": {},
   "outputs": [],
   "source": [
    "# Paths to the base directories/files of the dataset\n",
    "base_dir = Path('/Users/homayraalam/Downloads/cassava-leaf-disease-classification')\n",
    "train_df = pd.read_csv(f'{base_dir}/train.csv')"
   ]
  },
  {
   "cell_type": "code",
   "execution_count": null,
   "id": "c8a99547-dc8a-4839-9489-482c46f624a3",
   "metadata": {},
   "outputs": [],
   "source": [
    "# Read the JSON file and write its contents to a variable\n",
    "with open(f'{base_dir}/label_num_to_disease_map.json') as f:\n",
    "    class_names = json.loads(f.read())\n",
    "f.close()"
   ]
  },
  {
   "cell_type": "markdown",
   "id": "507c48c0-6dbb-4e45-abcf-ca43f5928894",
   "metadata": {},
   "source": [
    "Data Preprocessing"
   ]
  },
  {
   "cell_type": "code",
   "execution_count": 5,
   "id": "30a493df-24be-4e95-8d33-6b54b8ede6ea",
   "metadata": {},
   "outputs": [
    {
     "data": {
      "text/plain": [
       "{'0': 'Cassava Bacterial Blight (CBB)',\n",
       " '1': 'Cassava Brown Streak Disease (CBSD)',\n",
       " '2': 'Cassava Green Mottle (CGM)',\n",
       " '3': 'Cassava Mosaic Disease (CMD)',\n",
       " '4': 'Healthy'}"
      ]
     },
     "execution_count": 5,
     "metadata": {},
     "output_type": "execute_result"
    }
   ],
   "source": [
    "# Let's show the names of the classes \n",
    "class_names"
   ]
  },
  {
   "cell_type": "code",
   "execution_count": 6,
   "id": "da1ade24-36a8-4e89-9fcb-bb047b29724e",
   "metadata": {},
   "outputs": [
    {
     "data": {
      "text/html": [
       "<div>\n",
       "<style scoped>\n",
       "    .dataframe tbody tr th:only-of-type {\n",
       "        vertical-align: middle;\n",
       "    }\n",
       "\n",
       "    .dataframe tbody tr th {\n",
       "        vertical-align: top;\n",
       "    }\n",
       "\n",
       "    .dataframe thead th {\n",
       "        text-align: right;\n",
       "    }\n",
       "</style>\n",
       "<table border=\"1\" class=\"dataframe\">\n",
       "  <thead>\n",
       "    <tr style=\"text-align: right;\">\n",
       "      <th></th>\n",
       "      <th>image_id</th>\n",
       "      <th>label</th>\n",
       "    </tr>\n",
       "  </thead>\n",
       "  <tbody>\n",
       "    <tr>\n",
       "      <th>0</th>\n",
       "      <td>1000015157.jpg</td>\n",
       "      <td>0</td>\n",
       "    </tr>\n",
       "    <tr>\n",
       "      <th>1</th>\n",
       "      <td>1000201771.jpg</td>\n",
       "      <td>3</td>\n",
       "    </tr>\n",
       "    <tr>\n",
       "      <th>2</th>\n",
       "      <td>100042118.jpg</td>\n",
       "      <td>1</td>\n",
       "    </tr>\n",
       "    <tr>\n",
       "      <th>3</th>\n",
       "      <td>1000723321.jpg</td>\n",
       "      <td>1</td>\n",
       "    </tr>\n",
       "    <tr>\n",
       "      <th>4</th>\n",
       "      <td>1000812911.jpg</td>\n",
       "      <td>3</td>\n",
       "    </tr>\n",
       "  </tbody>\n",
       "</table>\n",
       "</div>"
      ],
      "text/plain": [
       "         image_id  label\n",
       "0  1000015157.jpg      0\n",
       "1  1000201771.jpg      3\n",
       "2   100042118.jpg      1\n",
       "3  1000723321.jpg      1\n",
       "4  1000812911.jpg      3"
      ]
     },
     "execution_count": 6,
     "metadata": {},
     "output_type": "execute_result"
    }
   ],
   "source": [
    "# Let's check our DataFrame with training data\n",
    "train_df.head()"
   ]
  },
  {
   "cell_type": "code",
   "execution_count": 7,
   "id": "a39b2862-3142-450e-a871-ed6298332dbc",
   "metadata": {},
   "outputs": [],
   "source": [
    "# Add a new column with appropriate class names for labels\n",
    "train_df['label_name'] = train_df['label'].apply(lambda x: class_names[str(x)])"
   ]
  },
  {
   "cell_type": "code",
   "execution_count": 8,
   "id": "8f93b73e-2991-4b8b-96b1-f2a5ef60be54",
   "metadata": {},
   "outputs": [
    {
     "data": {
      "text/html": [
       "<div>\n",
       "<style scoped>\n",
       "    .dataframe tbody tr th:only-of-type {\n",
       "        vertical-align: middle;\n",
       "    }\n",
       "\n",
       "    .dataframe tbody tr th {\n",
       "        vertical-align: top;\n",
       "    }\n",
       "\n",
       "    .dataframe thead th {\n",
       "        text-align: right;\n",
       "    }\n",
       "</style>\n",
       "<table border=\"1\" class=\"dataframe\">\n",
       "  <thead>\n",
       "    <tr style=\"text-align: right;\">\n",
       "      <th></th>\n",
       "      <th>image_id</th>\n",
       "      <th>label</th>\n",
       "      <th>label_name</th>\n",
       "    </tr>\n",
       "  </thead>\n",
       "  <tbody>\n",
       "    <tr>\n",
       "      <th>0</th>\n",
       "      <td>1000015157.jpg</td>\n",
       "      <td>0</td>\n",
       "      <td>Cassava Bacterial Blight (CBB)</td>\n",
       "    </tr>\n",
       "    <tr>\n",
       "      <th>1</th>\n",
       "      <td>1000201771.jpg</td>\n",
       "      <td>3</td>\n",
       "      <td>Cassava Mosaic Disease (CMD)</td>\n",
       "    </tr>\n",
       "    <tr>\n",
       "      <th>2</th>\n",
       "      <td>100042118.jpg</td>\n",
       "      <td>1</td>\n",
       "      <td>Cassava Brown Streak Disease (CBSD)</td>\n",
       "    </tr>\n",
       "    <tr>\n",
       "      <th>3</th>\n",
       "      <td>1000723321.jpg</td>\n",
       "      <td>1</td>\n",
       "      <td>Cassava Brown Streak Disease (CBSD)</td>\n",
       "    </tr>\n",
       "    <tr>\n",
       "      <th>4</th>\n",
       "      <td>1000812911.jpg</td>\n",
       "      <td>3</td>\n",
       "      <td>Cassava Mosaic Disease (CMD)</td>\n",
       "    </tr>\n",
       "  </tbody>\n",
       "</table>\n",
       "</div>"
      ],
      "text/plain": [
       "         image_id  label                           label_name\n",
       "0  1000015157.jpg      0       Cassava Bacterial Blight (CBB)\n",
       "1  1000201771.jpg      3         Cassava Mosaic Disease (CMD)\n",
       "2   100042118.jpg      1  Cassava Brown Streak Disease (CBSD)\n",
       "3  1000723321.jpg      1  Cassava Brown Streak Disease (CBSD)\n",
       "4  1000812911.jpg      3         Cassava Mosaic Disease (CMD)"
      ]
     },
     "execution_count": 8,
     "metadata": {},
     "output_type": "execute_result"
    }
   ],
   "source": [
    "# Check the result\n",
    "train_df.head()"
   ]
  },
  {
   "cell_type": "code",
   "execution_count": 9,
   "id": "8fe301bc-a52e-46f8-b66b-e5c040242ffa",
   "metadata": {},
   "outputs": [],
   "source": [
    "# Let's use StratifiedKFold to split the dataset into 4 parts\n",
    "sk = StratifiedKFold(n_splits=4, random_state=42, shuffle=True)\n",
    "\n",
    "for fold, (train, val) in enumerate(sk.split(train_df, train_df.label)):\n",
    "    train_df.loc[val, 'fold'] = fold"
   ]
  },
  {
   "cell_type": "code",
   "execution_count": 10,
   "id": "31a98577-7258-4ea6-8500-c3897861c661",
   "metadata": {},
   "outputs": [],
   "source": [
    "# Converting from float type to int\n",
    "train_df.fold = train_df.fold.astype(int)"
   ]
  },
  {
   "cell_type": "code",
   "execution_count": 11,
   "id": "925b3141-658f-4682-afc0-3ecfacf68972",
   "metadata": {},
   "outputs": [
    {
     "data": {
      "text/html": [
       "<div>\n",
       "<style scoped>\n",
       "    .dataframe tbody tr th:only-of-type {\n",
       "        vertical-align: middle;\n",
       "    }\n",
       "\n",
       "    .dataframe tbody tr th {\n",
       "        vertical-align: top;\n",
       "    }\n",
       "\n",
       "    .dataframe thead th {\n",
       "        text-align: right;\n",
       "    }\n",
       "</style>\n",
       "<table border=\"1\" class=\"dataframe\">\n",
       "  <thead>\n",
       "    <tr style=\"text-align: right;\">\n",
       "      <th></th>\n",
       "      <th>image_id</th>\n",
       "      <th>label</th>\n",
       "      <th>label_name</th>\n",
       "      <th>fold</th>\n",
       "    </tr>\n",
       "  </thead>\n",
       "  <tbody>\n",
       "    <tr>\n",
       "      <th>0</th>\n",
       "      <td>1000015157.jpg</td>\n",
       "      <td>0</td>\n",
       "      <td>Cassava Bacterial Blight (CBB)</td>\n",
       "      <td>2</td>\n",
       "    </tr>\n",
       "    <tr>\n",
       "      <th>1</th>\n",
       "      <td>1000201771.jpg</td>\n",
       "      <td>3</td>\n",
       "      <td>Cassava Mosaic Disease (CMD)</td>\n",
       "      <td>2</td>\n",
       "    </tr>\n",
       "    <tr>\n",
       "      <th>2</th>\n",
       "      <td>100042118.jpg</td>\n",
       "      <td>1</td>\n",
       "      <td>Cassava Brown Streak Disease (CBSD)</td>\n",
       "      <td>1</td>\n",
       "    </tr>\n",
       "    <tr>\n",
       "      <th>3</th>\n",
       "      <td>1000723321.jpg</td>\n",
       "      <td>1</td>\n",
       "      <td>Cassava Brown Streak Disease (CBSD)</td>\n",
       "      <td>1</td>\n",
       "    </tr>\n",
       "    <tr>\n",
       "      <th>4</th>\n",
       "      <td>1000812911.jpg</td>\n",
       "      <td>3</td>\n",
       "      <td>Cassava Mosaic Disease (CMD)</td>\n",
       "      <td>2</td>\n",
       "    </tr>\n",
       "    <tr>\n",
       "      <th>...</th>\n",
       "      <td>...</td>\n",
       "      <td>...</td>\n",
       "      <td>...</td>\n",
       "      <td>...</td>\n",
       "    </tr>\n",
       "    <tr>\n",
       "      <th>21392</th>\n",
       "      <td>999068805.jpg</td>\n",
       "      <td>3</td>\n",
       "      <td>Cassava Mosaic Disease (CMD)</td>\n",
       "      <td>0</td>\n",
       "    </tr>\n",
       "    <tr>\n",
       "      <th>21393</th>\n",
       "      <td>999329392.jpg</td>\n",
       "      <td>3</td>\n",
       "      <td>Cassava Mosaic Disease (CMD)</td>\n",
       "      <td>0</td>\n",
       "    </tr>\n",
       "    <tr>\n",
       "      <th>21394</th>\n",
       "      <td>999474432.jpg</td>\n",
       "      <td>1</td>\n",
       "      <td>Cassava Brown Streak Disease (CBSD)</td>\n",
       "      <td>1</td>\n",
       "    </tr>\n",
       "    <tr>\n",
       "      <th>21395</th>\n",
       "      <td>999616605.jpg</td>\n",
       "      <td>4</td>\n",
       "      <td>Healthy</td>\n",
       "      <td>1</td>\n",
       "    </tr>\n",
       "    <tr>\n",
       "      <th>21396</th>\n",
       "      <td>999998473.jpg</td>\n",
       "      <td>4</td>\n",
       "      <td>Healthy</td>\n",
       "      <td>3</td>\n",
       "    </tr>\n",
       "  </tbody>\n",
       "</table>\n",
       "<p>21397 rows × 4 columns</p>\n",
       "</div>"
      ],
      "text/plain": [
       "             image_id  label                           label_name  fold\n",
       "0      1000015157.jpg      0       Cassava Bacterial Blight (CBB)     2\n",
       "1      1000201771.jpg      3         Cassava Mosaic Disease (CMD)     2\n",
       "2       100042118.jpg      1  Cassava Brown Streak Disease (CBSD)     1\n",
       "3      1000723321.jpg      1  Cassava Brown Streak Disease (CBSD)     1\n",
       "4      1000812911.jpg      3         Cassava Mosaic Disease (CMD)     2\n",
       "...               ...    ...                                  ...   ...\n",
       "21392   999068805.jpg      3         Cassava Mosaic Disease (CMD)     0\n",
       "21393   999329392.jpg      3         Cassava Mosaic Disease (CMD)     0\n",
       "21394   999474432.jpg      1  Cassava Brown Streak Disease (CBSD)     1\n",
       "21395   999616605.jpg      4                              Healthy     1\n",
       "21396   999998473.jpg      4                              Healthy     3\n",
       "\n",
       "[21397 rows x 4 columns]"
      ]
     },
     "execution_count": 11,
     "metadata": {},
     "output_type": "execute_result"
    }
   ],
   "source": [
    "# Check the result\n",
    "train_df"
   ]
  },
  {
   "cell_type": "code",
   "execution_count": 12,
   "id": "e41e644c-8605-4186-89a8-4a52d337ad30",
   "metadata": {},
   "outputs": [],
   "source": [
    "# Save updated dataset\n",
    "train_df.to_csv('/Users/homayraalam/Downloads/cassava-leaf-disease-classification/train_splitted.csv', index=False)"
   ]
  },
  {
   "cell_type": "code",
   "execution_count": 13,
   "id": "89d9e2aa-8f57-4b4d-8cb8-16dba94e8e6f",
   "metadata": {},
   "outputs": [
    {
     "name": "stdout",
     "output_type": "stream",
     "text": [
      "21397 1 21398\n"
     ]
    }
   ],
   "source": [
    "import os\n",
    "train_dir = '/Users/homayraalam/Downloads/cassava-leaf-disease-classification/train_images'\n",
    "test_dir = '/Users/homayraalam/Downloads/cassava-leaf-disease-classification/test_images'\n",
    "train = os.listdir(train_dir)\n",
    "\n",
    "test= os.listdir(test_dir)\n",
    "print(len(train),len(test),len(train)+len(test))"
   ]
  },
  {
   "cell_type": "code",
   "execution_count": 14,
   "id": "1908ed06-6473-4f43-8689-ee717b09a55c",
   "metadata": {},
   "outputs": [
    {
     "name": "stderr",
     "output_type": "stream",
     "text": [
      "/Users/homayraalam/opt/anaconda3/lib/python3.9/site-packages/seaborn/_decorators.py:36: FutureWarning: Pass the following variable as a keyword arg: x. From version 0.12, the only valid positional argument will be `data`, and passing other arguments without an explicit keyword will result in an error or misinterpretation.\n",
      "  warnings.warn(\n"
     ]
    },
    {
     "data": {
      "image/png": "[encoded data removed]",
      "text/plain": [
       "<Figure size 1152x288 with 1 Axes>"
      ]
     },
     "metadata": {
      "needs_background": "light"
     },
     "output_type": "display_data"
    }
   ],
   "source": [
    "'''check the count of the various disease types'''\n",
    "\n",
    "#visualization imports\n",
    "import matplotlib.pyplot as plt\n",
    "from matplotlib.image import imread\n",
    "import seaborn as sns\n",
    "%matplotlib inline\n",
    "\n",
    "plt.figure(figsize=(16,4))\n",
    "sns.countplot(train_df['label_name'])\n",
    "plt.title('Count of the various disease types in Cassava leaves')\n",
    "\n",
    "plt.grid()\n",
    "plt.show()"
   ]
  },
  {
   "cell_type": "code",
   "execution_count": 15,
   "id": "7cf36682-30ed-456c-b677-a2cc8fb7eb83",
   "metadata": {},
   "outputs": [],
   "source": [
    "import numpy as np # linear algebra\n",
    "import pandas as pd # data processing, CSV file I/O (e.g. pd.read_csv)\n",
    "import os\n",
    "from PIL import Image\n",
    "\n",
    "from sklearn import model_selection\n",
    "from sklearn import metrics\n",
    "\n",
    "\n",
    "\n"
   ]
  },
  {
   "cell_type": "code",
   "execution_count": 17,
   "id": "f67e6e9b-e8ff-4ae7-bccf-b9ebeb6d8742",
   "metadata": {},
   "outputs": [
    {
     "data": {
      "text/plain": [
       "(21397, 4)"
      ]
     },
     "execution_count": 17,
     "metadata": {},
     "output_type": "execute_result"
    }
   ],
   "source": [
    "#reset the index and than drop the index\n",
    "df_train = train_df.reset_index(drop=True)\n",
    "#df_valid = df_valid.reset_index(drop=True)\n",
    "df_train.shape"
   ]
  },
  {
   "cell_type": "code",
   "execution_count": 18,
   "id": "15b3d17f-cf51-4344-94e7-51ec387616cd",
   "metadata": {},
   "outputs": [
    {
     "data": {
      "text/plain": [
       "<bound method NDFrame.head of              image_id  label                           label_name  fold\n",
       "0      1000015157.jpg      0       Cassava Bacterial Blight (CBB)     2\n",
       "1      1000201771.jpg      3         Cassava Mosaic Disease (CMD)     2\n",
       "2       100042118.jpg      1  Cassava Brown Streak Disease (CBSD)     1\n",
       "3      1000723321.jpg      1  Cassava Brown Streak Disease (CBSD)     1\n",
       "4      1000812911.jpg      3         Cassava Mosaic Disease (CMD)     2\n",
       "...               ...    ...                                  ...   ...\n",
       "21392   999068805.jpg      3         Cassava Mosaic Disease (CMD)     0\n",
       "21393   999329392.jpg      3         Cassava Mosaic Disease (CMD)     0\n",
       "21394   999474432.jpg      1  Cassava Brown Streak Disease (CBSD)     1\n",
       "21395   999616605.jpg      4                              Healthy     1\n",
       "21396   999998473.jpg      4                              Healthy     3\n",
       "\n",
       "[21397 rows x 4 columns]>"
      ]
     },
     "execution_count": 18,
     "metadata": {},
     "output_type": "execute_result"
    }
   ],
   "source": [
    "df_train.head"
   ]
  },
  {
   "cell_type": "code",
   "execution_count": 19,
   "id": "5d4a89ae-dff3-4a1d-9a74-048b23fc4901",
   "metadata": {},
   "outputs": [],
   "source": [
    "#join image name with path to make a list of training images\n",
    "\n",
    "train_images = [os.path.join(train_dir,x) for x in df_train.image_id.values]\n",
    "#train_images[1]\n",
    "train_images_01=train_images[:5000]"
   ]
  },
  {
   "cell_type": "code",
   "execution_count": 20,
   "id": "750660b1-cce6-4041-9c58-1e9ad1d1091f",
   "metadata": {},
   "outputs": [
    {
     "data": {
      "text/plain": [
       "list"
      ]
     },
     "execution_count": 20,
     "metadata": {},
     "output_type": "execute_result"
    }
   ],
   "source": [
    "type(train_images)"
   ]
  },
  {
   "cell_type": "code",
   "execution_count": 28,
   "id": "fe2552eb-a30f-4ed9-9ae8-984bd8bb2252",
   "metadata": {},
   "outputs": [],
   "source": [
    "X=[]\n",
    "WIDTH = 128\n",
    "HEIGHT = 128\n",
    "import cv2\n",
    "for img in train_images_01:\n",
    "\n",
    "    # Read and resize image\n",
    "    full_size_image = cv2.imread(img)\n",
    "    \n",
    "    image_norm = cv2.normalize(full_size_image ,0,255,norm_type=cv2.NORM_MINMAX)\n",
    "    X.append(cv2.resize(image_norm, (WIDTH,HEIGHT), interpolation=cv2.INTER_CUBIC))\n",
    "    \n",
    "\n",
    "    \n",
    "    "
   ]
  },
  {
   "cell_type": "code",
   "execution_count": 29,
   "id": "ddb24e69-5107-44b7-8712-10e258b9dd12",
   "metadata": {},
   "outputs": [
    {
     "data": {
      "text/plain": [
       "(10000, 300, 300, 3)"
      ]
     },
     "execution_count": 29,
     "metadata": {},
     "output_type": "execute_result"
    }
   ],
   "source": [
    "X_T=np.array(X)\n",
    "X_T.shape\n"
   ]
  },
  {
   "cell_type": "code",
   "execution_count": 30,
   "id": "13309239-32bd-44ef-8ec5-1f4fd8ee6302",
   "metadata": {},
   "outputs": [],
   "source": [
    "d1, d2, d3, d4 = X_T.shape"
   ]
  },
  {
   "cell_type": "code",
   "execution_count": 31,
   "id": "6db6d06f-543e-4c3f-bdb3-52a44fe158b8",
   "metadata": {},
   "outputs": [],
   "source": [
    "x_data_reshaped = X_T.reshape((d1, d2*d3,d4))"
   ]
  },
  {
   "cell_type": "markdown",
   "id": "ec704977-7d31-45a4-9c7f-cfedb6af064e",
   "metadata": {},
   "source": [
    "Randomized PCA"
   ]
  },
  {
   "cell_type": "code",
   "execution_count": null,
   "id": "cbcf18b2-5d91-4288-be32-d0e14e98162b",
   "metadata": {},
   "outputs": [],
   "source": [
    "nsamples, nx, ny=x_data_reshaped.shape\n",
    "d2_train_dataset = x_data_reshaped.reshape((nsamples,nx*ny))\n",
    "\n",
    "from sklearn.decomposition import PCA as RandomizedPCA\n",
    "pca=RandomizedPCA(n_components=50, svd_solver='randomized', whiten=True)\n",
    "\n",
    "#pca = RandomizedPCA(50)\n",
    "pca_values=pca.fit(d2_train_dataset)\n",
    "\n"
   ]
  },
  {
   "cell_type": "code",
   "execution_count": null,
   "id": "2bcae4e3-b44c-402c-bd91-90ebff1f9dd4",
   "metadata": {},
   "outputs": [],
   "source": [
    "plt.plot(np.cumsum(pca_values.explained_variance_ratio_))\n",
    "plt.xlabel('number of components')\n",
    "plt.ylabel('cumulative explained variance');"
   ]
  },
  {
   "cell_type": "code",
   "execution_count": 35,
   "id": "90afa9e0-6482-46e1-ae80-e2f35b779b13",
   "metadata": {},
   "outputs": [
    {
     "data": {
      "text/plain": [
       "PCA(n_components=50)"
      ]
     },
     "execution_count": 35,
     "metadata": {},
     "output_type": "execute_result"
    }
   ],
   "source": [
    "pca_values"
   ]
  },
  {
   "cell_type": "code",
   "execution_count": 53,
   "id": "ef4035f3-c274-46c2-9f08-21bbfb3d8fa4",
   "metadata": {},
   "outputs": [],
   "source": [
    "z =pca_values[:,49]"
   ]
  },
  {
   "cell_type": "code",
   "execution_count": 57,
   "id": "c69bdb8a-35ef-4c41-a75e-4635c5b60b90",
   "metadata": {},
   "outputs": [],
   "source": [
    "train_targets = df_train.label.values\n",
    "#valid_targets = df_valid.label.values"
   ]
  },
  {
   "cell_type": "code",
   "execution_count": 58,
   "id": "7939674b-e46a-45ac-9ed1-e6309836b9dc",
   "metadata": {},
   "outputs": [
    {
     "data": {
      "text/plain": [
       "21397"
      ]
     },
     "execution_count": 58,
     "metadata": {},
     "output_type": "execute_result"
    }
   ],
   "source": [
    "len(train_targets)"
   ]
  },
  {
   "cell_type": "code",
   "execution_count": null,
   "id": "c2b76afb-6886-4eae-9f2d-a62dfe917931",
   "metadata": {},
   "outputs": [],
   "source": [
    "pip install opencv-python"
   ]
  },
  {
   "cell_type": "code",
   "execution_count": null,
   "id": "63e94421-2dad-434c-b118-dfaa961bedb5",
   "metadata": {},
   "outputs": [],
   "source": [
    "! pip install imutils"
   ]
  },
  {
   "cell_type": "code",
   "execution_count": 59,
   "id": "b0df671c-2738-4dcd-b79c-1c1144feab3a",
   "metadata": {},
   "outputs": [],
   "source": [
    "\n",
    "from sklearn.neighbors import KNeighborsClassifier\n",
    "from sklearn.preprocessing import LabelEncoder\n",
    "from sklearn.model_selection import  train_test_split\n",
    "from sklearn.metrics import classification_report\n",
    "from imutils import paths\n",
    "import os\n",
    "import glob\n",
    "import cv2\n",
    "import numpy as np\n"
   ]
  },
  {
   "cell_type": "markdown",
   "id": "6e07ba00-5a6c-4aaf-95a3-54154ed95b9c",
   "metadata": {},
   "source": [
    "Data Augmentation"
   ]
  },
  {
   "cell_type": "code",
   "execution_count": null,
   "id": "051f70dc-1689-4ed3-af72-6fe1c18830aa",
   "metadata": {},
   "outputs": [],
   "source": [
    "train_gen = ImageDataGenerator(\n",
    "                                rotation_range=360,\n",
    "                                width_shift_range=0.1,\n",
    "                                height_shift_range=0.1,\n",
    "                                brightness_range=[0.1,0.9],\n",
    "                                shear_range=25,\n",
    "                                zoom_range=0.3,\n",
    "                                channel_shift_range=0.1,\n",
    "                                horizontal_flip=True,\n",
    "                                vertical_flip=True,\n",
    "                                rescale=1/255,\n",
    "                                validation_split=0.15\n",
    "                               )\n",
    "                                 "
   ]
  },
  {
   "cell_type": "markdown",
   "id": "8cc95224-703a-4a3a-bb90-a000451dbb7e",
   "metadata": {},
   "source": [
    "Model Train"
   ]
  },
  {
   "cell_type": "code",
   "execution_count": 66,
   "id": "1e95763b-8e16-436e-8154-4c09352b9585",
   "metadata": {},
   "outputs": [
    {
     "name": "stdout",
     "output_type": "stream",
     "text": [
      "Accuracy: 0.44560747663551403\n"
     ]
    }
   ],
   "source": [
    "lables = train_targets\n",
    "lables = np.array(lables)\n",
    "\n",
    "dataset_size = z.shape[0]\n",
    "data = z.reshape(dataset_size,-1)\n",
    "\n",
    "#print(data.shape)\n",
    "#print(lables.shape)\n",
    "#print(dataset_size)\n",
    "#print(lables)\n",
    "\n",
    "(trainX, testX, trainY, testY ) = model_selection.train_test_split(data, lables, test_size= 0.25, random_state=42)\n",
    "\n",
    "model = KNeighborsClassifier(n_neighbors=15)\n",
    "model.fit(trainX, trainY)\n",
    "\n",
    "#Predict the response for test dataset\n",
    "y_pred = model.predict(testX)\n",
    "\n",
    "#Import scikit-learn metrics module for accuracy calculation\n",
    "from sklearn import metrics\n",
    "\n",
    "# Model Accuracy, how often is the classifier correct?\n",
    "print(\"Accuracy:\",metrics.accuracy_score(testY, y_pred))"
   ]
  },
  {
   "cell_type": "code",
   "execution_count": null,
   "id": "14e453bd-787b-4668-b708-cf3a4c8d8231",
   "metadata": {},
   "outputs": [],
   "source": []
  },
  {
   "cell_type": "code",
   "execution_count": null,
   "id": "1b47c750-fc0e-4daf-97cf-f29abe32ee8a",
   "metadata": {},
   "outputs": [],
   "source": []
  }
 ],
 "metadata": {
  "kernelspec": {
   "display_name": "Python 3 (ipykernel)",
   "language": "python",
   "name": "python3"
  },
  "language_info": {
   "codemirror_mode": {
    "name": "ipython",
    "version": 3
   },
   "file_extension": ".py",
   "mimetype": "text/x-python",
   "name": "python",
   "nbconvert_exporter": "python",
   "pygments_lexer": "ipython3",
   "version": "3.9.7"
  }
 },
 "nbformat": 4,
 "nbformat_minor": 5
}
